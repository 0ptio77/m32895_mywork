{
 "cells": [
  {
   "cell_type": "code",
   "execution_count": 1,
   "metadata": {},
   "outputs": [
    {
     "name": "stdout",
     "output_type": "stream",
     "text": [
      "7 is a prime number!\n"
     ]
    }
   ],
   "source": [
    "num = int(input(\"What is your number? \"))\n",
    "\n",
    "if num < 2:\n",
    "    print(\"Not prime\")\n",
    "else:\n",
    "    for i in range(2, num):\n",
    "        if num % i == 0:\n",
    "            print(num, \"is not a prime number\")\n",
    "            break\n",
    "    else:\n",
    "        print(num, \"is a prime number!\")\n"
   ]
  },
  {
   "cell_type": "code",
   "execution_count": 2,
   "metadata": {},
   "outputs": [
    {
     "name": "stdout",
     "output_type": "stream",
     "text": [
      "too low buddy\n",
      "too low buddy\n",
      "too high buddy\n",
      "too low buddy\n",
      "too high buddy\n",
      "too high buddy\n",
      "Bingo!\n"
     ]
    }
   ],
   "source": [
    "import random\n",
    "num = random.randint(1,10)\n",
    "while num < 100:\n",
    "    guess = int(input(\"guess the number\"))\n",
    "    if guess == num:\n",
    "        print(\"Bingo!\")\n",
    "        break\n",
    "    elif guess < num:\n",
    "        print(\"too low buddy\")\n",
    "    else:\n",
    "        print (\"too high buddy\")\n",
    "\n"
   ]
  }
 ],
 "metadata": {
  "kernelspec": {
   "display_name": "Python 3",
   "language": "python",
   "name": "python3"
  },
  "language_info": {
   "codemirror_mode": {
    "name": "ipython",
    "version": 3
   },
   "file_extension": ".py",
   "mimetype": "text/x-python",
   "name": "python",
   "nbconvert_exporter": "python",
   "pygments_lexer": "ipython3",
   "version": "3.12.1"
  }
 },
 "nbformat": 4,
 "nbformat_minor": 2
}
